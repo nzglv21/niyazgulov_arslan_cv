{
 "cells": [
  {
   "cell_type": "code",
   "execution_count": 7,
   "metadata": {},
   "outputs": [],
   "source": [
    "import numpy as np\n",
    "import pandas as pd\n",
    "import torch as t\n",
    "import torch.nn as nn \n",
    "import torch.nn.functional as F \n",
    "from torch.utils.data import Dataset, DataLoader\n",
    "import warnings\n",
    "import matplotlib.pyplot as plt\n",
    "warnings.filterwarnings('ignore')\n",
    "import pickle"
   ]
  },
  {
   "cell_type": "code",
   "execution_count": 8,
   "metadata": {},
   "outputs": [],
   "source": [
    "class TrainDataSet(Dataset):\n",
    "\n",
    "    def __init__(self, data, labels) -> None:\n",
    "        self.data = data\n",
    "        self.labels = labels\n",
    "    \n",
    "    def __len__(self):\n",
    "        return self.data.shape[0]\n",
    "    \n",
    "    def __getitem__(self, index):\n",
    "        x = t.tensor(self.data.iloc[index], dtype=t.float).view(28, -1).unsqueeze(0)\n",
    "        y = self.labels.iloc[index]\n",
    "        return x, y \n",
    "\n",
    "class TestDataSet(Dataset):\n",
    "\n",
    "    def __init__(self, data) -> None:\n",
    "        self.data = data\n",
    "    \n",
    "    def __len__(self):\n",
    "        return self.data.shape[0]\n",
    "    \n",
    "    def __getitem__(self, index):\n",
    "        x = t.tensor(self.data.iloc[index], dtype=t.float).view(28, -1).unsqueeze(0)\n",
    "        return x, 1\n",
    "    \n"
   ]
  },
  {
   "cell_type": "code",
   "execution_count": 9,
   "metadata": {},
   "outputs": [],
   "source": [
    "train_df = pd.read_csv('train.csv')\n",
    "labels = train_df['label']\n",
    "train_data = train_df.drop(['label'], axis= 1)"
   ]
  },
  {
   "cell_type": "code",
   "execution_count": 10,
   "metadata": {},
   "outputs": [],
   "source": [
    "train_dataset = TrainDataSet(train_data, labels)"
   ]
  },
  {
   "cell_type": "code",
   "execution_count": 11,
   "metadata": {},
   "outputs": [
    {
     "data": {
      "text/plain": [
       "42000"
      ]
     },
     "execution_count": 11,
     "metadata": {},
     "output_type": "execute_result"
    }
   ],
   "source": [
    "len(train_dataset)"
   ]
  },
  {
   "cell_type": "code",
   "execution_count": 12,
   "metadata": {},
   "outputs": [
    {
     "data": {
      "image/png": "[encoded data removed]",
      "text/plain": [
       "<Figure size 640x480 with 1 Axes>"
      ]
     },
     "metadata": {},
     "output_type": "display_data"
    }
   ],
   "source": [
    "# plt.imshow(train_dataset[1][0], cmap='gray')\n",
    "def showIm(train_dataset):\n",
    "    index = np.random.randint(0, 4200)\n",
    "    x, y = train_dataset[index]\n",
    "    plt.title(y)\n",
    "    plt.axis('off')\n",
    "    plt.imshow(x.squeeze(0), cmap='gray')\n",
    "showIm(train_dataset)"
   ]
  },
  {
   "cell_type": "code",
   "execution_count": 13,
   "metadata": {},
   "outputs": [
    {
     "data": {
      "image/png": "[encoded data removed]",
      "text/plain": [
       "<Figure size 640x480 with 1 Axes>"
      ]
     },
     "metadata": {},
     "output_type": "display_data"
    }
   ],
   "source": [
    "labels_count = dict(labels.value_counts())\n",
    "plt.bar(labels_count.keys(), labels_count.values(), data=labels_count.values())\n",
    "plt.show()"
   ]
  },
  {
   "cell_type": "code",
   "execution_count": 14,
   "metadata": {},
   "outputs": [],
   "source": [
    "class CNN(nn.Module):\n",
    "    def __init__(self) -> None:\n",
    "        super(CNN, self).__init__()\n",
    "        self.conv1 = nn.Conv2d(1, 8, 3)\n",
    "        self.pool = nn.MaxPool2d(2, 1)\n",
    "        self.conv2 = nn.Conv2d(8, 16, 5)\n",
    "        self.fc1 = nn.Linear(6400, 128)\n",
    "        self.fc2 = nn.Linear(128, 64)\n",
    "        self.fc3 = nn.Linear(64, 32)\n",
    "        self.fc4 = nn.Linear(32, 10)\n",
    "        self.softmax = nn.Softmax(dim=1)\n",
    "    \n",
    "    def forward(self, x):\n",
    "        x = self.conv1(x)\n",
    "        x = self.pool(x)\n",
    "        x = self.pool(self.conv2(x))\n",
    "        x = x.view(x.size(0), -1)\n",
    "        x = F.relu(self.fc1(x))\n",
    "        x = F.relu(self.fc2(x))\n",
    "        x = F.relu(self.fc3(x))\n",
    "        x = (self.fc4(x))\n",
    "        return x\n",
    "\n",
    "\n"
   ]
  },
  {
   "cell_type": "code",
   "execution_count": 15,
   "metadata": {},
   "outputs": [],
   "source": [
    "import tqdm"
   ]
  },
  {
   "cell_type": "code",
   "execution_count": 16,
   "metadata": {},
   "outputs": [],
   "source": [
    "def train_model(model, criterion, optimizer, train_loader, num_epochs):\n",
    "    model.train()\n",
    "    for epoch in (range(num_epochs)):\n",
    "        cur_loss = 0.0\n",
    "        for batch_idx, (x, y )in enumerate((train_loader)):\n",
    "            optimizer.zero_grad()\n",
    "\n",
    "            out = model(x)\n",
    "            loss = criterion(out, y)\n",
    "            \n",
    "            loss.backward()\n",
    "            optimizer.step()\n",
    "\n",
    "            cur_loss += loss.item()\n",
    "            if batch_idx % 100 == 99:    \n",
    "                print('[%d, %5d] loss: %.3f' % (epoch + 1, batch_idx + 1, cur_loss))\n",
    "                cur_loss = 0.0\n",
    "        print('Эпоха %d завершена.' % (epoch + 1))\n",
    "\n",
    "            "
   ]
  },
  {
   "cell_type": "code",
   "execution_count": 17,
   "metadata": {},
   "outputs": [],
   "source": [
    "import torch.optim as optim\n"
   ]
  },
  {
   "cell_type": "code",
   "execution_count": 19,
   "metadata": {},
   "outputs": [
    {
     "name": "stdout",
     "output_type": "stream",
     "text": [
      "[1,   100] loss: 117.419\n",
      "[1,   200] loss: 45.803\n",
      "[1,   300] loss: 41.453\n",
      "[1,   400] loss: 36.932\n",
      "[1,   500] loss: 30.735\n",
      "[1,   600] loss: 28.071\n",
      "[1,   700] loss: 28.198\n",
      "[1,   800] loss: 32.224\n",
      "[1,   900] loss: 19.263\n",
      "[1,  1000] loss: 26.863\n",
      "[1,  1100] loss: 27.109\n",
      "[1,  1200] loss: 27.132\n",
      "[1,  1300] loss: 27.174\n",
      "[1,  1400] loss: 33.878\n",
      "[1,  1500] loss: 21.420\n",
      "[1,  1600] loss: 18.042\n",
      "[1,  1700] loss: 21.255\n",
      "[1,  1800] loss: 17.251\n",
      "[1,  1900] loss: 22.333\n",
      "[1,  2000] loss: 17.939\n",
      "[1,  2100] loss: 24.358\n",
      "[1,  2200] loss: 23.071\n",
      "[1,  2300] loss: 14.327\n",
      "[1,  2400] loss: 28.506\n",
      "[1,  2500] loss: 19.935\n",
      "[1,  2600] loss: 21.257\n",
      "[1,  2700] loss: 18.494\n",
      "[1,  2800] loss: 15.696\n",
      "[1,  2900] loss: 20.249\n",
      "[1,  3000] loss: 19.791\n",
      "[1,  3100] loss: 18.652\n",
      "[1,  3200] loss: 9.464\n",
      "[1,  3300] loss: 13.855\n",
      "[1,  3400] loss: 18.731\n",
      "[1,  3500] loss: 14.528\n",
      "[1,  3600] loss: 14.112\n",
      "[1,  3700] loss: 18.475\n",
      "[1,  3800] loss: 19.485\n",
      "[1,  3900] loss: 20.675\n",
      "[1,  4000] loss: 14.895\n",
      "[1,  4100] loss: 17.754\n",
      "[1,  4200] loss: 17.341\n",
      "Эпоха 1 завершена.\n"
     ]
    }
   ],
   "source": [
    "model = CNN()\n",
    "train_loader = DataLoader(train_dataset, batch_size=10)\n",
    "criterion = nn.CrossEntropyLoss()\n",
    "optimizer = optim.Adam(model.parameters(), lr=0.001)\n",
    "train_model(model, criterion, optimizer, train_loader, 1)"
   ]
  },
  {
   "cell_type": "code",
   "execution_count": 20,
   "metadata": {},
   "outputs": [],
   "source": [
    "def get_pred(model, train_dataset):\n",
    "    index = np.random.randint(0, len(train_dataset))\n",
    "    x, y = train_dataset[index]\n",
    "    softmax = nn.Softmax()\n",
    "    with t.no_grad():\n",
    "        sm= softmax(model(x.unsqueeze(0)))\n",
    "        n = t.argmax(sm)\n",
    "    plt.title(f\"{int(n)} - {sm.max()}\")\n",
    "    plt.imshow(x.squeeze(0))"
   ]
  },
  {
   "cell_type": "code",
   "execution_count": 33,
   "metadata": {},
   "outputs": [
    {
     "data": {
      "image/png": "[encoded data removed]",
      "text/plain": [
       "<Figure size 640x480 with 1 Axes>"
      ]
     },
     "metadata": {},
     "output_type": "display_data"
    }
   ],
   "source": [
    "# f = open('myCNN.pickle')\n",
    "# model = pickle.load(f)\n",
    "get_pred(model, train_dataset)"
   ]
  },
  {
   "cell_type": "code",
   "execution_count": 34,
   "metadata": {},
   "outputs": [],
   "source": [
    "test_loader = TestDataSet(pd.read_csv(\"test.csv\"))"
   ]
  },
  {
   "cell_type": "code",
   "execution_count": 127,
   "metadata": {},
   "outputs": [
    {
     "data": {
      "image/png": "[encoded data removed]",
      "text/plain": [
       "<Figure size 640x480 with 1 Axes>"
      ]
     },
     "metadata": {},
     "output_type": "display_data"
    }
   ],
   "source": [
    "get_pred(model, test_loader)"
   ]
  },
  {
   "cell_type": "code",
   "execution_count": 133,
   "metadata": {},
   "outputs": [],
   "source": [
    "import pickle\n",
    "with open('myCNN.pkl', 'bw') as f:\n",
    "    pickle.dump(model, f)\n",
    "\n",
    "f.close()"
   ]
  }
 ],
 "metadata": {
  "kernelspec": {
   "display_name": "Python 3",
   "language": "python",
   "name": "python3"
  },
  "language_info": {
   "codemirror_mode": {
    "name": "ipython",
    "version": 3
   },
   "file_extension": ".py",
   "mimetype": "text/x-python",
   "name": "python",
   "nbconvert_exporter": "python",
   "pygments_lexer": "ipython3",
   "version": "3.11.5"
  }
 },
 "nbformat": 4,
 "nbformat_minor": 2
}
